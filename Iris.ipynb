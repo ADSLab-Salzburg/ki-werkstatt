{
 "cells": [
  {
   "cell_type": "markdown",
   "id": "4f4d4276-5aa5-4a37-aa26-5a52ab6af525",
   "metadata": {},
   "source": [
    "# 🌸🔍 Klassifikation des Iris-Datensatz \n",
    "\n",
    "In dieser Aufgabe trainieren wir ein Machine-Learning-Modell, das Blumenarten anhand von vier Merkmalen unterscheidet.  \n",
    "\n",
    "### 🔢 Der Datensatz\n",
    "Der **Iris-Datensatz** enthält Informationen zu 150 Blumen aus drei Arten:  \n",
    "- **Setosa**  \n",
    "- **Versicolor**  \n",
    "- **Virginica**  \n",
    "\n",
    "Jede Blume wird durch vier Merkmale beschrieben:  \n",
    "- **Sepal Length** (Länge des äußeren Blütenblatts)  \n",
    "- **Sepal Width** (Breite des äußeren Blütenblatts)  \n",
    "- **Petal Length** (Länge des inneren Blütenblatts)  \n",
    "- **Petal Width** (Breite des inneren Blütenblatts)  \n",
    "\n",
    "### 🎯 Ziel\n",
    "Wir bauen ein Modell, das anhand dieser Merkmale vorhersagt, zu welcher Art eine Blume gehört.  \n",
    "\n",
    "### 🛠 Schritte\n",
    "0. **Bibliotheken installieren**: Wir verwenden pandas und sciki-learn.\n",
    "1. **Daten laden**: Wir verwenden den Iris-Datensatz.  \n",
    "2. **Modell trainieren**: Wir nutzen einen **Decision Tree Classifier**.  \n",
    "3. **Vorhersagen treffen**: Das Modell sagt die Blumenart basierend auf den Merkmalen voraus.  \n",
    "4. **Genauigkeit prüfen**: Wir testen, wie gut unser Modell funktioniert.  \n",
    "\n",
    "💡 **Frage zum Nachdenken:** Welche Merkmale sind besonders wichtig für die Klassifikation? 🤔  \n",
    "\n",
    "Los geht’s! 🚀\n",
    "\n",
    "## 📦 Installation der benötigten Bibliotheken  \n",
    "Bevor wir mit der Datenanalyse starten, müssen wir sicherstellen, dass die notwendigen Python-Bibliotheken installiert sind.  \n",
    "\n",
    "Die wichtigsten sind:  \n",
    "- **pandas**: Zum Laden und Verarbeiten von Daten  \n",
    "- **scikit-learn**: Für das Training des Machine-Learning-Modells\n",
    "\n",
    "💡 Falls die Bibliotheken bereits installiert sind, kannst du diesen Schritt überspringen. 🚀\n",
    "\n",
    "Installiere sie mit folgendem Befehl:  "
   ]
  },
  {
   "cell_type": "code",
   "execution_count": null,
   "id": "40c6a0d8-2ec2-4071-bd37-bd25a7e6b48a",
   "metadata": {},
   "outputs": [],
   "source": [
    "!pip install pandas scikit-learn"
   ]
  },
  {
   "cell_type": "markdown",
   "id": "b9f00b63-60a8-4956-bb32-805799d39aa5",
   "metadata": {},
   "source": [
    "## 📥 Laden der Bibliotheken  \n",
    "\n",
    "Bevor wir mit der Analyse starten, importieren wir die benötigten Bibliotheken:  \n",
    "\n",
    "- **pandas**: Zum Laden und Verarbeiten der Daten.  \n",
    "- **scikit-learn**:  \n",
    "  - `load_iris`: Um den Iris-Datensatz zu laden.  \n",
    "  - `train_test_split`: Um die Daten in Trainings- und Testdaten aufzuteilen.  \n",
    "  - `DecisionTreeClassifier`: Um ein Entscheidungsbaum-Modell zu erstellen.  \n",
    "  - `accuracy_score`: Um die Genauigkeit des Modells zu messen.  \n",
    "\n",
    "💡 Diese Bibliotheken helfen uns, die Daten vorzubereiten, das Modell zu trainieren und die Ergebnisse auszuwerten. 🚀"
   ]
  },
  {
   "cell_type": "code",
   "execution_count": null,
   "id": "60138cec-9a22-4925-8cf7-f8ac7d39d036",
   "metadata": {},
   "outputs": [],
   "source": [
    "import pandas as pd\n",
    "from sklearn.datasets import load_iris\n",
    "from sklearn.model_selection import train_test_split\n",
    "from sklearn.tree import DecisionTreeClassifier\n",
    "from sklearn.metrics import accuracy_score"
   ]
  },
  {
   "cell_type": "markdown",
   "id": "1deac9a4-852e-4e74-9e2e-02af169863b7",
   "metadata": {},
   "source": [
    "## 📊 Laden des Iris-Datensatzes  \n",
    "\n",
    "Jetzt laden wir den **Iris-Datensatz**, der bereits in **scikit-learn** enthalten ist.  \n",
    "\n",
    "Dazu verwenden wir `load_iris()` und speichern die Daten in Variablen:  \n",
    "- **X** enthält die vier Merkmale jeder Blume.  \n",
    "- **y** enthält die Klassenlabels (0 = Setosa, 1 = Versicolor, 2 = Virginica).  \n",
    "\n",
    "💡 Jetzt haben wir die Daten bereit zum Trainieren unseres Modells! 🚀"
   ]
  },
  {
   "cell_type": "code",
   "execution_count": null,
   "id": "a9b829fb-7d92-42c7-a293-39b9cb319438",
   "metadata": {},
   "outputs": [],
   "source": [
    "iris = load_iris()\n",
    "X = pd.DataFrame(iris.data, columns=iris.feature_names)\n",
    "y = iris.target"
   ]
  },
  {
   "cell_type": "markdown",
   "id": "02e854e6-ec18-4f0d-a81f-2a47054a6921",
   "metadata": {},
   "source": [
    "## 🔍 Erste Erkundung der Daten  \n",
    "\n",
    "Bevor wir unser Machine-Learning-Modell trainieren, sollten wir uns die Daten genauer ansehen. Dazu verwenden wir einige wichtige **pandas**-Funktionen:  \n",
    "- **`head()`** hilft uns, die Struktur und ersten Werte des Datensatzes zu verstehen.  \n",
    "- **`info()`** zeigt, welche Datentypen vorliegen und ob es fehlende Werte gibt.  \n",
    "- **`value_counts()`** ist nützlich, um die Häufigkeit einzelner Werte oder Kategorien zu analysieren.  \n",
    "\n",
    "💡 Diese Erkundung hilft uns, die Datenqualität zu bewerten und zu entscheiden, ob Vorverarbeitung nötig ist! 🚀"
   ]
  },
  {
   "cell_type": "code",
   "execution_count": null,
   "id": "fffec226-3403-4cec-940f-dbae19e02496",
   "metadata": {},
   "outputs": [],
   "source": [
    "X.head()"
   ]
  },
  {
   "cell_type": "code",
   "execution_count": null,
   "id": "0a53f841-cbaf-487c-aef0-2efd8c14293f",
   "metadata": {},
   "outputs": [],
   "source": [
    "X.info()"
   ]
  },
  {
   "cell_type": "markdown",
   "id": "a50cc851-4a88-4f0a-bbb7-ce69c1557eb9",
   "metadata": {},
   "source": [
    "Zielwerte (Blumentypen):"
   ]
  },
  {
   "cell_type": "code",
   "execution_count": null,
   "id": "5a675eec-090d-4896-a520-55bea5e68183",
   "metadata": {},
   "outputs": [],
   "source": [
    "pd.Series(y).value_counts()"
   ]
  },
  {
   "cell_type": "markdown",
   "id": "ba6f753a-a2dd-41c3-983a-b6f65bce40e6",
   "metadata": {},
   "source": [
    "## 🔀 Aufteilen in Trainings- und Testdaten  \n",
    "\n",
    "Damit unser Machine-Learning-Modell gut funktioniert, teilen wir die Daten in zwei Teile auf:  \n",
    "\n",
    "1. **Trainingsdaten (80%)** – Das Modell lernt aus diesen Daten.  \n",
    "2. **Testdaten (20%)** – Das Modell wird an neuen, unbekannten Daten getestet.  \n",
    "\n",
    "Das machen wir mit **`train_test_split`** aus **scikit-learn**:"
   ]
  },
  {
   "cell_type": "code",
   "execution_count": null,
   "id": "edc20334-5f35-434e-a708-14573aa6bbc9",
   "metadata": {},
   "outputs": [],
   "source": [
    "X_train, X_test, y_train, y_test = train_test_split(X, y, test_size=0.2, random_state=42)"
   ]
  },
  {
   "cell_type": "markdown",
   "id": "106cde19-39c8-4182-bc80-2553bce7a4d7",
   "metadata": {},
   "source": [
    "📌 **Warum machen wir das?**  \n",
    "- Damit wir überprüfen können, wie gut das Modell auf **neuen Daten** funktioniert.  \n",
    "- So vermeiden wir, dass das Modell einfach die Trainingsdaten „auswendig“ lernt (Overfitting).  \n",
    "- Ein gut trainiertes Modell sollte auch auf unbekannte Daten verlässliche Vorhersagen treffen.  \n",
    "\n",
    "💡 Jetzt sind unsere Daten bereit für das Training des Entscheidungsbaums! 🚀\n",
    "\n",
    "\n",
    "## 🤖 Modell trainieren  \n",
    "\n",
    "Nun trainieren wir unser Machine-Learning-Modell, einen **Decision Tree Classifier**, mit den **Trainingsdaten**.  \n",
    "\n",
    "Der **DecisionTreeClassifier** ist ein Algorithmus, der eine Baumstruktur verwendet, um Entscheidungen basierend auf den Eingabemerkmalen zu treffen.  \n",
    "\n",
    "Wir erstellen das Modell und trainieren es wie folgt:  \n",
    "\n",
    "- **`random_state=42`** sorgt dafür, dass wir bei jeder Ausführung des Codes das gleiche Ergebnis erhalten (Reproduzierbarkeit).  \n",
    "- **`fit(X_train, y_train)`** trainiert das Modell mit den Trainingsdaten: **X_train** (Merkmale) und **y_train** (Zielvariable, also Überlebt oder Nicht-Überlebt).  \n",
    "\n",
    "💡 Nach dem Training kann unser Modell beginnen, Vorhersagen zu treffen! 🚀"
   ]
  },
  {
   "cell_type": "code",
   "execution_count": null,
   "id": "0f74fcfb-44f6-4f3e-8ba3-7733b56c3957",
   "metadata": {},
   "outputs": [],
   "source": [
    "model = DecisionTreeClassifier(random_state=42)\n",
    "model.fit(X_train, y_train)"
   ]
  },
  {
   "cell_type": "markdown",
   "id": "f56f8db5-caf1-4fdf-8424-c09b330235c7",
   "metadata": {},
   "source": [
    "## 📊 Modell bewerten  \n",
    "\n",
    "Nachdem unser Modell trainiert wurde, müssen wir seine Leistung auf den **Testdaten** überprüfen, die es noch nie gesehen hat. Das hilft uns, herauszufinden, wie gut das Modell auf **neuen, unbekannten Daten** arbeitet.  \n",
    "\n",
    "Wir treffen Vorhersagen für die Testdaten und vergleichen diese mit den tatsächlichen Ergebnissen:  \n",
    "- **`model.predict(X_test)`**: Macht Vorhersagen für die Testdaten.  \n",
    "- **`accuracy_score(y_test, y_pred)`**: Berechnet die Genauigkeit des Modells, indem es die Vorhersagen mit den tatsächlichen Labels vergleicht.  \n",
    "- **`print(f\"...\")`**: Gibt die Genauigkeit in Prozent aus.  \n",
    "\n",
    "💡 Die Genauigkeit gibt uns eine gute Vorstellung davon, wie gut das Modell die Überlebenswahrscheinlichkeit vorhersagt! 🚀"
   ]
  },
  {
   "cell_type": "code",
   "execution_count": null,
   "id": "2fd7179f-e475-426e-8f22-64ab6bc0994b",
   "metadata": {},
   "outputs": [],
   "source": [
    "y_pred = model.predict(X_test)\n",
    "accuracy = accuracy_score(y_test, y_pred)\n",
    "print(f\"\\nGenauigkeit des Modells: {accuracy * 100:.2f}%\")"
   ]
  },
  {
   "cell_type": "markdown",
   "id": "415af037-3a9e-418b-8abb-9e7214056925",
   "metadata": {},
   "source": [
    "## 🔮 Beispielvorhersage  \n",
    "\n",
    "Jetzt machen wir eine **Vorhersage** für neue Daten, die das Modell noch nicht gesehen hat. Wir erstellen einen neuen DataFrame mit fiktiven Passagierdaten und verwenden das bereits trainierte Modell, um die Überlebenswahrscheinlichkeit dieser Passagiere zu schätzen.  \n",
    "\n",
    "1. **Neuen DataFrame erstellen**  \n",
    "   Wir erstellen einen DataFrame mit den gleichen Merkmalen wie in unseren Trainingsdaten (**sepal length**, **sepal width**, **petal length**, **petal width**.  \n",
    "\n",
    "2. **Vorhersage treffen**  \n",
    "   Nun verwenden wir `model.predict()`, um Vorhersagen zu machen, ob die Passagiere überlebt haben oder nicht.  \n",
    "\n",
    "**`model.predict(new_data)`** gibt für jede Zeile im DataFrame eine Vorhersage zurück. Mit `iris.target_names` übersetzen wir die Codes in den Blumentyp zurück.\n",
    "\n",
    "💡 Jetzt kannst du sehen, wie gut unser Modell für neue, unbekannte Blumen funktioniert! 🚀"
   ]
  },
  {
   "cell_type": "code",
   "execution_count": null,
   "id": "bdbfd862-f14f-4551-a2ed-b8ce73db9bcd",
   "metadata": {},
   "outputs": [],
   "source": [
    "example = pd.DataFrame([[5.1, 3.5, 1.4, 0.2]], columns=iris.feature_names)  # Beispiel-Daten\n",
    "prediction = model.predict(example)\n",
    "f\"Blumentyp: {iris.target_names[prediction[0]]}\""
   ]
  },
  {
   "cell_type": "markdown",
   "id": "d841cd61-4ab0-4635-a2e5-061efe6b3a45",
   "metadata": {},
   "source": [
    "## 🚀 Weitere Übungsaufgaben\n",
    "\n",
    "1. **📊 Alters-Median berechnen**  \n",
    "   **Was zu tun ist**: Berechne das Medianalter der Passagiere mit `X['Age'].median()` und vergleiche es mit dem Durchschnittsalter, das du mit `X['Age'].mean()` berechnen kannst.  \n",
    "   **Ziel**: Lerne den Unterschied zwischen dem Median und dem Durchschnitt und deren Relevanz für den Umgang mit Altersdaten."
   ]
  },
  {
   "cell_type": "markdown",
   "id": "5232f31e-10d3-4cba-8423-38015b0546bc",
   "metadata": {},
   "source": []
  },
  {
   "cell_type": "markdown",
   "id": "a92e924f-7428-49d9-babc-1b59d6dfbab7",
   "metadata": {},
   "source": [
    "2. **🔄 Testgröße anpassen**  \n",
    "   **Was zu tun ist**: Ändere den `test_size`-Parameter in `train_test_split` von 0.2 auf 0.3, sodass 30% der Daten für den Testdatensatz verwendet werden. Beobachte, wie sich dies auf die Modellgenauigkeit auswirkt.  \n",
    "   **Ziel**: Experimentiere mit der Größe des Testdatensatzes und verstehe, wie die Verteilung von Trainings- und Testdaten das Modell beeinflusst."
   ]
  },
  {
   "cell_type": "markdown",
   "id": "88c7bb02-1e60-49c4-8f76-f91b3f2ff490",
   "metadata": {},
   "source": []
  },
  {
   "cell_type": "markdown",
   "id": "41a29201-8050-4c0f-b768-15a9f0afd387",
   "metadata": {},
   "source": [
    "3. **📊 Modell mit einer anderen Methode bewerten**  \n",
    "   **Was zu tun ist**: Berechne zusätzlich zur Genauigkeit auch den **F1-Score** des Modells. Dies kannst du mit `f1_score(y_test, y_pred)` tun. Vergleiche die Ergebnisse und analysiere, welche Metrik für die Bewertung des Modells besser geeignet ist.  \n",
    "   **Ziel**: Erkenne den Unterschied zwischen Genauigkeit und F1-Score und wann welche Metrik sinnvoller ist."
   ]
  },
  {
   "cell_type": "code",
   "execution_count": null,
   "id": "3821a549-e5f3-400a-b069-d32ccfba0b5b",
   "metadata": {},
   "outputs": [],
   "source": []
  },
  {
   "cell_type": "markdown",
   "id": "c6d6d74e-5a12-4476-aa2f-dbed6c76f369",
   "metadata": {},
   "source": [
    "4. **🌳 Entscheidungsbaum visualisieren**  \n",
    "   **Was zu tun ist**: Nutze `plot_tree(model)` aus `sklearn.tree`, um den trainierten Entscheidungsbaum zu visualisieren. So kannst du sehen, wie der Baum aufgebaut ist und welche Merkmale zu den Entscheidungen führen.  \n",
    "   **Ziel**: Lerne, wie man den Entscheidungsbaum visualisiert und interpretiere, wie das Modell Entscheidungen trifft."
   ]
  },
  {
   "cell_type": "code",
   "execution_count": null,
   "id": "a17c4d3d-140e-4d57-bcab-c50124090863",
   "metadata": {},
   "outputs": [],
   "source": []
  },
  {
   "cell_type": "markdown",
   "id": "e7143a8d-c53d-45c7-9f13-f95dd5a5ba1b",
   "metadata": {},
   "source": [
    "5. **⚙️ Hyperparameter des Modells anpassen**\n",
    "   **Was zu tun ist**: Teste das Modell mit unterschiedlichen Werten für den Parameter `max_depth` im `DecisionTreeClassifier`, z.B. 3, 5 und 10. Vergleiche die Modellgenauigkeit für diese Werte.  \n",
    "   **Ziel**: Experimentiere mit dem Parameter `max_depth` und erkenne, wie die Tiefe des Entscheidungsbaums die Modellleistung beeinflusst."
   ]
  },
  {
   "cell_type": "code",
   "execution_count": null,
   "id": "5c9739f0-800c-42b7-9cb8-548f6450bf98",
   "metadata": {},
   "outputs": [],
   "source": []
  },
  {
   "cell_type": "markdown",
   "id": "4f2f47a0-72ed-4855-bc22-8567fb260794",
   "metadata": {},
   "source": [
    "6. **🔍 Modell für weniger Merkmale trainieren**  \n",
    "   **Was zu tun ist**: Trainiere ein Modell, das weniger merkamle Merkmale verwendet (entferne z.B. `sepal length`), und vergleiche die Modellgenauigkeit mit dem Modell, das alle Merkmale nutzt. Verwende dazu `train_test_split` und das `DecisionTreeClassifier` wie bisher.  \n",
    "   **Ziel**: Verstehe, wie die Wahl der Merkmale (Features) die Leistung des Modells beeinflusst, und experimentiere mit unterschiedlichen Kombinationen von Features."
   ]
  },
  {
   "cell_type": "code",
   "execution_count": null,
   "id": "e5da56fc-d925-4564-b1c0-f1411c111592",
   "metadata": {},
   "outputs": [],
   "source": []
  },
  {
   "cell_type": "markdown",
   "id": "bb51a630-f9c1-4ef5-b848-82976c3d9080",
   "metadata": {},
   "source": [
    "7. **💡 Modell auf andere Klassifikationsalgorithmen anwenden**\n",
    "**Was zu tun ist:** Wende andere Klassifikationsalgorithmen wie `RandomForestClassifier` oder `LogisticRegression` auf den Iris-Datensatz an und vergleiche die Leistung mit dem Entscheidungsbaum."
   ]
  },
  {
   "cell_type": "code",
   "execution_count": null,
   "id": "3ada05da-1783-49b9-b3f5-01c6edfbd7b1",
   "metadata": {},
   "outputs": [],
   "source": []
  }
 ],
 "metadata": {
  "kernelspec": {
   "display_name": "Python 3 (ipykernel)",
   "language": "python",
   "name": "python3"
  },
  "language_info": {
   "codemirror_mode": {
    "name": "ipython",
    "version": 3
   },
   "file_extension": ".py",
   "mimetype": "text/x-python",
   "name": "python",
   "nbconvert_exporter": "python",
   "pygments_lexer": "ipython3",
   "version": "3.12.3"
  }
 },
 "nbformat": 4,
 "nbformat_minor": 5
}
