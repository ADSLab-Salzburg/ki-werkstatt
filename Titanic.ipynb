{
 "cells": [
  {
   "cell_type": "markdown",
   "id": "6534e2ce-b19c-4b42-b6cc-8855b03a750a",
   "metadata": {},
   "source": [
    "# Klassifikation des Titanic-Datensatz 🚢⚓  \n",
    "\n",
    "In dieser Aufgabe trainieren wir ein Machine-Learning-Modell, das vorhersagt, ob eine Person die Titanic-Katastrophe überlebt hat.  \n",
    "\n",
    "#### 🔢 Der Datensatz\n",
    "Der **Titanic-Datensatz** enthält Informationen zu den Passagieren, darunter:  \n",
    "- **Alter**  \n",
    "- **Geschlecht**  \n",
    "- **Ticketklasse** (1., 2. oder 3. Klasse)  \n",
    "- **Anzahl der Familienmitglieder an Bord**  \n",
    "\n",
    "Außerdem gibt es die Zielvariable:  \n",
    "- **Survived** (1 = überlebt, 0 = nicht überlebt)  \n",
    "\n",
    "#### 🎯 Ziel  \n",
    "Wir bauen ein Modell, das anhand der Passagiermerkmale vorhersagt, ob eine Person überlebt hat.  \n",
    "\n",
    "#### 🛠 Schritte\n",
    "0. **Bibliotheken installieren**: Wir verwenden pandas und sciki-learn.\n",
    "1. **Daten laden**: Wir verwenden den Titanic-Datensatz.  \n",
    "2. **Modell trainieren**: Wir nutzen einen **Decision Tree Classifier**.  \n",
    "3. **Vorhersagen treffen**: Das Modell sagt die Blumenart basierend auf den Merkmalen voraus.  \n",
    "4. **Genauigkeit prüfen**: Wir testen, wie gut unser Modell funktioniert.  \n",
    "\n",
    "💡 **Frage zum Nachdenken:** Welche Merkmale sind besonders wichtig für die Klassifikation? 🤔  \n",
    "\n",
    "Los geht’s! 🚀\n",
    "\n",
    "## 📦 Installation der benötigten Bibliotheken  \n",
    "Bevor wir mit der Datenanalyse starten, müssen wir sicherstellen, dass die notwendigen Python-Bibliotheken installiert sind.  \n",
    "\n",
    "Die wichtigsten sind:  \n",
    "- **pandas**: Zum Laden und Verarbeiten von Daten  \n",
    "- **scikit-learn**: Für das Training des Machine-Learning-Modells\n",
    "\n",
    "💡 Falls die Bibliotheken bereits installiert sind, kannst du diesen Schritt überspringen. 🚀\n",
    "\n",
    "Installiere sie mit folgendem Befehl:  "
   ]
  },
  {
   "cell_type": "code",
   "execution_count": null,
   "id": "40c6a0d8-2ec2-4071-bd37-bd25a7e6b48a",
   "metadata": {},
   "outputs": [],
   "source": [
    "!pip install pandas scikit-learn"
   ]
  },
  {
   "cell_type": "markdown",
   "id": "b9f00b63-60a8-4956-bb32-805799d39aa5",
   "metadata": {},
   "source": [
    "## 📥 Laden der Bibliotheken  \n",
    "\n",
    "Bevor wir mit der Analyse starten, importieren wir die benötigten Bibliotheken:  \n",
    "\n",
    "- **pandas**: Zum Laden und Verarbeiten der Daten.  \n",
    "- **scikit-learn**:  \n",
    "  - `train_test_split`: Um die Daten in Trainings- und Testdaten aufzuteilen.  \n",
    "  - `DecisionTreeClassifier`: Um ein Entscheidungsbaum-Modell zu erstellen.  \n",
    "  - `accuracy_score`: Um die Genauigkeit des Modells zu messen.  \n",
    "\n",
    "💡 Diese Bibliotheken helfen uns, die Daten vorzubereiten, das Modell zu trainieren und die Ergebnisse auszuwerten. 🚀"
   ]
  },
  {
   "cell_type": "code",
   "execution_count": null,
   "id": "60138cec-9a22-4925-8cf7-f8ac7d39d036",
   "metadata": {},
   "outputs": [],
   "source": [
    "import pandas as pd\n",
    "from sklearn.model_selection import train_test_split\n",
    "from sklearn.tree import DecisionTreeClassifier\n",
    "from sklearn.metrics import accuracy_score"
   ]
  },
  {
   "cell_type": "markdown",
   "id": "1deac9a4-852e-4e74-9e2e-02af169863b7",
   "metadata": {},
   "source": [
    "## 📊 Laden des Titanic-Datensatzes  \n",
    "\n",
    "Jetzt laden wir den **Titanic-Datensatz** direkt aus dem Internet.  \n",
    "\n",
    "Dazu verwenden wir **pandas** und lesen die CSV-Datei von der angegebenen URL ein:  \n",
    "- **`pd.read_csv(url)`** lädt die Daten als **DataFrame**, eine tabellenartige Struktur.  \n",
    "- Die Daten enthalten Informationen über die Passagiere, wie Alter, Geschlecht und Ticketklasse.  \n",
    "\n",
    "💡 Jetzt haben wir die Titanic-Daten bereit zur Analyse und Modellierung! 🚀"
   ]
  },
  {
   "cell_type": "code",
   "execution_count": null,
   "id": "a9b829fb-7d92-42c7-a293-39b9cb319438",
   "metadata": {},
   "outputs": [],
   "source": [
    "url = \"https://raw.githubusercontent.com/datasciencedojo/datasets/master/titanic.csv\"\n",
    "data = pd.read_csv(url)"
   ]
  },
  {
   "cell_type": "markdown",
   "id": "02e854e6-ec18-4f0d-a81f-2a47054a6921",
   "metadata": {},
   "source": [
    "## 🔍 Erste Erkundung der Daten  \n",
    "\n",
    "Bevor wir unser Machine-Learning-Modell trainieren, sollten wir uns die Daten genauer ansehen. Dazu verwenden wir einige wichtige **pandas**-Funktionen:  \n",
    "- **`head()`** hilft uns, die Struktur und ersten Werte des Datensatzes zu verstehen.  \n",
    "- **`info()`** zeigt, welche Datentypen vorliegen und ob es fehlende Werte gibt.  \n",
    "- **`value_counts()`** ist nützlich, um die Häufigkeit einzelner Werte oder Kategorien zu analysieren.  \n",
    "\n",
    "💡 Diese Erkundung hilft uns, die Datenqualität zu bewerten und zu entscheiden, ob Vorverarbeitung nötig ist! 🚀"
   ]
  },
  {
   "cell_type": "code",
   "execution_count": null,
   "id": "fffec226-3403-4cec-940f-dbae19e02496",
   "metadata": {},
   "outputs": [],
   "source": [
    "data.head()"
   ]
  },
  {
   "cell_type": "markdown",
   "id": "a50cc851-4a88-4f0a-bbb7-ce69c1557eb9",
   "metadata": {},
   "source": [
    "Beschreibung der Daten:"
   ]
  },
  {
   "cell_type": "code",
   "execution_count": null,
   "id": "5a675eec-090d-4896-a520-55bea5e68183",
   "metadata": {},
   "outputs": [],
   "source": [
    "data.info()"
   ]
  },
  {
   "cell_type": "code",
   "execution_count": null,
   "id": "10139df1-617d-4b22-b0a0-e3140a9fbe3b",
   "metadata": {},
   "outputs": [],
   "source": [
    "data['Survived'].value_counts()"
   ]
  },
  {
   "cell_type": "markdown",
   "id": "44e95175-0c25-48d8-b4e6-358bfd667b21",
   "metadata": {},
   "source": [
    "## 🛠 Vorbereitung der Titanic-Daten  \n",
    "\n",
    "Bevor wir unser Modell trainieren, wählen wir relevante Merkmale aus und bereiten die Daten vor.  \n",
    "\n",
    "### 1️⃣ Wichtige Spalten auswählen\n",
    "Wir konzentrieren uns auf folgende Merkmale, die die Überlebenswahrscheinlichkeit beeinflussen könnten:  \n",
    "- **Pclass** (Ticketklasse: 1, 2 oder 3)  \n",
    "- **Age** (Alter des Passagiers)  \n",
    "- **SibSp** (Anzahl der Geschwister/Ehepartner an Bord)  \n",
    "- **Parch** (Anzahl der Eltern/Kinder an Bord)  \n",
    "\n",
    "Dazu wählen wir die Spalten aus und entfernen Zeilen mit fehlenden Werten in diesen Spalten:  "
   ]
  },
  {
   "cell_type": "code",
   "execution_count": null,
   "id": "14a90e44-a68c-4854-97b2-2f41a41b502b",
   "metadata": {},
   "outputs": [],
   "source": [
    "features = ['Pclass', 'Age', 'SibSp', 'Parch']\n",
    "data = data.dropna(subset=features)  # Fehlende Werte entfernen\n",
    "X = data[features]\n",
    "y = data['Survived']"
   ]
  },
  {
   "cell_type": "markdown",
   "id": "170e1617-11b0-4896-941e-23a07526f084",
   "metadata": {},
   "source": [
    "### 2️⃣ Fehlende Werte im Alter ersetzen\n",
    "Da einige Passagiere kein angegebenes Alter haben, ersetzen wir fehlende Werte durch das Durchschnittsalter:  "
   ]
  },
  {
   "cell_type": "code",
   "execution_count": null,
   "id": "c613013b-d65b-48cd-850e-506718f4a57b",
   "metadata": {},
   "outputs": [],
   "source": [
    "X.loc[:, 'Age'] = X.loc[:, 'Age'].fillna(X['Age'].mean())"
   ]
  },
  {
   "cell_type": "markdown",
   "id": "ba6f753a-a2dd-41c3-983a-b6f65bce40e6",
   "metadata": {},
   "source": [
    "💡 Diese Vorverarbeitung sorgt dafür, dass unser Modell nur vollständige und bereinigte Daten erhält! 🚀\n",
    "\n",
    "## 🔀 Aufteilen in Trainings- und Testdaten  \n",
    "\n",
    "Damit unser Machine-Learning-Modell gut funktioniert, teilen wir die Daten in zwei Teile auf:  \n",
    "\n",
    "1. **Trainingsdaten (80%)** – Das Modell lernt aus diesen Daten.  \n",
    "2. **Testdaten (20%)** – Das Modell wird an neuen, unbekannten Daten getestet.  \n",
    "\n",
    "Das machen wir mit **`train_test_split`** aus **scikit-learn**:"
   ]
  },
  {
   "cell_type": "code",
   "execution_count": null,
   "id": "edc20334-5f35-434e-a708-14573aa6bbc9",
   "metadata": {},
   "outputs": [],
   "source": [
    "X_train, X_test, y_train, y_test = train_test_split(X, y, test_size=0.2, random_state=42)"
   ]
  },
  {
   "cell_type": "markdown",
   "id": "d351de6d-ad1b-41b2-bcc7-19e2bd35a611",
   "metadata": {},
   "source": [
    "📌 **Warum machen wir das?**  \n",
    "- Damit wir überprüfen können, wie gut das Modell auf **neuen Daten** funktioniert.  \n",
    "- So vermeiden wir, dass das Modell einfach die Trainingsdaten „auswendig“ lernt (Overfitting).  \n",
    "- Ein gut trainiertes Modell sollte auch auf unbekannte Daten verlässliche Vorhersagen treffen.  \n",
    "\n",
    "💡 Jetzt sind unsere Daten bereit für das Training des Entscheidungsbaums! 🚀\n",
    "\n",
    "\n",
    "## 🤖 Modell trainieren  \n",
    "\n",
    "Nun trainieren wir unser Machine-Learning-Modell, einen **Decision Tree Classifier**, mit den **Trainingsdaten**.  \n",
    "\n",
    "Der **DecisionTreeClassifier** ist ein Algorithmus, der eine Baumstruktur verwendet, um Entscheidungen basierend auf den Eingabemerkmalen zu treffen.  \n",
    "\n",
    "Wir erstellen das Modell und trainieren es wie folgt:  \n",
    "- **`random_state=42`** sorgt dafür, dass wir bei jeder Ausführung des Codes das gleiche Ergebnis erhalten (Reproduzierbarkeit).  \n",
    "- **`fit(X_train, y_train)`** trainiert das Modell mit den Trainingsdaten: **X_train** (Merkmale) und **y_train** (Zielvariable, also Überlebt oder Nicht-Überlebt).  \n",
    "\n",
    "💡 Nach dem Training kann unser Modell beginnen, Vorhersagen zu treffen! 🚀"
   ]
  },
  {
   "cell_type": "code",
   "execution_count": null,
   "id": "0f74fcfb-44f6-4f3e-8ba3-7733b56c3957",
   "metadata": {},
   "outputs": [],
   "source": [
    "model = DecisionTreeClassifier(random_state=42)\n",
    "model.fit(X_train, y_train)"
   ]
  },
  {
   "cell_type": "markdown",
   "id": "f56f8db5-caf1-4fdf-8424-c09b330235c7",
   "metadata": {},
   "source": [
    "## 📊 Modell bewerten  \n",
    "\n",
    "Nachdem unser Modell trainiert wurde, müssen wir seine Leistung auf den **Testdaten** überprüfen, die es noch nie gesehen hat. Das hilft uns, herauszufinden, wie gut das Modell auf **neuen, unbekannten Daten** arbeitet.  \n",
    "\n",
    "Wir treffen Vorhersagen für die Testdaten und vergleichen diese mit den tatsächlichen Ergebnissen:  \n",
    "- **`model.predict(X_test)`**: Macht Vorhersagen für die Testdaten.  \n",
    "- **`accuracy_score(y_test, y_pred)`**: Berechnet die Genauigkeit des Modells, indem es die Vorhersagen mit den tatsächlichen Labels vergleicht.  \n",
    "- **`print(f\"...\")`**: Gibt die Genauigkeit in Prozent aus.  \n",
    "\n",
    "💡 Die Genauigkeit gibt uns eine gute Vorstellung davon, wie gut das Modell die Überlebenswahrscheinlichkeit vorhersagt! 🚀"
   ]
  },
  {
   "cell_type": "code",
   "execution_count": null,
   "id": "2fd7179f-e475-426e-8f22-64ab6bc0994b",
   "metadata": {},
   "outputs": [],
   "source": [
    "y_pred = model.predict(X_test)\n",
    "accuracy = accuracy_score(y_test, y_pred)\n",
    "print(f\"\\nGenauigkeit des Modells: {accuracy * 100:.2f}%\")"
   ]
  },
  {
   "cell_type": "markdown",
   "id": "415af037-3a9e-418b-8abb-9e7214056925",
   "metadata": {},
   "source": [
    "## 🔮 Beispielvorhersage  \n",
    "\n",
    "Jetzt machen wir eine **Vorhersage** für neue Daten, die das Modell noch nicht gesehen hat. Wir erstellen einen neuen DataFrame mit fiktiven Passagierdaten und verwenden das bereits trainierte Modell, um die Überlebenswahrscheinlichkeit dieser Passagiere zu schätzen.  \n",
    "\n",
    "1. **Neuen DataFrame erstellen**  \n",
    "   Wir erstellen einen DataFrame mit den gleichen Merkmalen wie in unseren Trainingsdaten (z.B. **Pclass**, **Age**, **SibSp**, **Parch**).  \n",
    "\n",
    "2. **Vorhersage treffen**  \n",
    "   Nun verwenden wir `model.predict()`, um Vorhersagen zu machen, ob die Passagiere überlebt haben oder nicht.  \n",
    "\n",
    "**`model.predict(new_data)`** gibt für jede Zeile im DataFrame eine Vorhersage zurück:  \n",
    "  - **1** bedeutet, dass der Passagier überlebt hat.  \n",
    "  - **0** bedeutet, dass der Passagier nicht überlebt hat.  \n",
    "\n",
    "💡 Jetzt kannst du sehen, wie gut unser Modell für neue, unbekannte Passagiere funktioniert! 🚀"
   ]
  },
  {
   "cell_type": "code",
   "execution_count": null,
   "id": "fc2fd02e-5137-4a1f-965f-eeb03ababd81",
   "metadata": {},
   "outputs": [],
   "source": [
    "example = pd.DataFrame([[1, 22, 1, 0]], columns=features)  # Beispiel: 3. Klasse, 22 Jahre, 1 Geschwister, 0 Elternteil\n",
    "prediction = model.predict(example)\n",
    "print(\"\\nBeispielvorhersage:\")\n",
    "print(f\"Überlebt: {'Ja' if prediction[0] == 1 else 'Nein'}\")"
   ]
  },
  {
   "cell_type": "markdown",
   "id": "609cc03e-2773-4bb9-a38f-c43abf8cc51b",
   "metadata": {},
   "source": [
    "## 🚀 Weitere Übungsaufgaben\n",
    "\n",
    "1. **📊 Alters-Median berechnen**  \n",
    "   **Was zu tun ist**: Berechne das Medianalter der Passagiere mit `X['Age'].median()` und vergleiche es mit dem Durchschnittsalter, das du mit `X['Age'].mean()` berechnen kannst.  \n",
    "   **Ziel**: Lerne den Unterschied zwischen dem Median und dem Durchschnitt und deren Relevanz für den Umgang mit Altersdaten."
   ]
  },
  {
   "cell_type": "code",
   "execution_count": null,
   "id": "3daa450c-aac3-4dba-953e-dfff35834528",
   "metadata": {},
   "outputs": [],
   "source": []
  },
  {
   "cell_type": "markdown",
   "id": "284a6247-c55d-4149-b6bd-262ddc6326c3",
   "metadata": {},
   "source": [
    "2. **📈 Verteilung der Passagierklassen visualisieren**  \n",
    "   **Was zu tun ist**: Verwende `X['Pclass'].value_counts()` und erstelle ein Diagramm (z.B. mit `matplotlib`), um die Verteilung der Passagierklassen zu visualisieren.  \n",
    "   **Ziel**: Verstehe, wie man kategorische Daten visualisiert und welche Informationen man aus der Verteilung der Passagierklassen ziehen kann."
   ]
  },
  {
   "cell_type": "code",
   "execution_count": null,
   "id": "c6b8d7a8-cb08-48fe-b0eb-b38332573013",
   "metadata": {},
   "outputs": [],
   "source": []
  },
  {
   "cell_type": "markdown",
   "id": "2fbfe9c3-32e3-487d-be41-61ba3425afaf",
   "metadata": {},
   "source": [
    "3. **🔄 Testgröße anpassen**  \n",
    "   **Was zu tun ist**: Ändere den `test_size`-Parameter in `train_test_split` von 0.2 auf 0.3, sodass 30% der Daten für den Testdatensatz verwendet werden. Beobachte, wie sich dies auf die Modellgenauigkeit auswirkt.  \n",
    "   **Ziel**: Experimentiere mit der Größe des Testdatensatzes und verstehe, wie die Verteilung von Trainings- und Testdaten das Modell beeinflusst."
   ]
  },
  {
   "cell_type": "code",
   "execution_count": null,
   "id": "6d89fe60-de6e-45cb-b2c5-88cde010e1c2",
   "metadata": {},
   "outputs": [],
   "source": []
  },
  {
   "cell_type": "markdown",
   "id": "248e3bdb-a6f4-4fb0-bea8-7ca8f4f0e6b4",
   "metadata": {},
   "source": [
    "4. **📊 Modell mit einer anderen Methode bewerten**  \n",
    "   **Was zu tun ist**: Berechne zusätzlich zur Genauigkeit auch den **F1-Score** des Modells. Dies kannst du mit `f1_score(y_test, y_pred)` tun. Vergleiche die Ergebnisse und analysiere, welche Metrik für die Bewertung des Modells besser geeignet ist.  \n",
    "   **Ziel**: Erkenne den Unterschied zwischen Genauigkeit und F1-Score und wann welche Metrik sinnvoller ist."
   ]
  },
  {
   "cell_type": "code",
   "execution_count": null,
   "id": "e41cca54-0451-4b6a-a8bb-ce23ee8573b0",
   "metadata": {},
   "outputs": [],
   "source": []
  },
  {
   "cell_type": "markdown",
   "id": "1520f332-fe4c-41dc-abe4-124a5829125b",
   "metadata": {},
   "source": [
    "5. **🌳 Entscheidungsbaum visualisieren**  \n",
    "   **Was zu tun ist**: Nutze `plot_tree(model)` aus `sklearn.tree`, um den trainierten Entscheidungsbaum zu visualisieren. So kannst du sehen, wie der Baum aufgebaut ist und welche Merkmale zu den Entscheidungen führen.  \n",
    "   **Ziel**: Lerne, wie man den Entscheidungsbaum visualisiert und interpretiere, wie das Modell Entscheidungen trifft."
   ]
  },
  {
   "cell_type": "code",
   "execution_count": null,
   "id": "38d8f66b-f15d-4981-add5-9ad74513a890",
   "metadata": {},
   "outputs": [],
   "source": []
  },
  {
   "cell_type": "markdown",
   "id": "98feee94-316b-4513-820d-d9d5d32e322b",
   "metadata": {},
   "source": [
    "6. **⚙️ Hyperparameter des Modells anpassen**  \n",
    "   **Was zu tun ist**: Teste das Modell mit unterschiedlichen Werten für den Parameter `max_depth` im `DecisionTreeClassifier`, z.B. 3, 5 und 10. Vergleiche die Modellgenauigkeit für diese Werte.  \n",
    "   **Ziel**: Experimentiere mit dem Parameter `max_depth` und erkenne, wie die Tiefe des Entscheidungsbaums die Modellleistung beeinflusst."
   ]
  },
  {
   "cell_type": "code",
   "execution_count": null,
   "id": "232471a4-18cb-4c26-8a29-e56df3068a66",
   "metadata": {},
   "outputs": [],
   "source": []
  },
  {
   "cell_type": "markdown",
   "id": "f15171c8-13b2-48ee-a9cd-e82920676529",
   "metadata": {},
   "source": [
    "7. **🔍 Modell für andere Merkmale trainieren**  \n",
    "   **Was zu tun ist**: Trainiere ein Modell, das nur **Age** und **Pclass** als Merkmale verwendet, und vergleiche die Modellgenauigkeit mit dem Modell, das alle Merkmale nutzt. Verwende dazu `train_test_split` und das `DecisionTreeClassifier` wie bisher.  \n",
    "   **Ziel**: Verstehe, wie die Wahl der Merkmale (Features) die Leistung des Modells beeinflusst, und experimentiere mit unterschiedlichen Kombinationen von Features."
   ]
  },
  {
   "cell_type": "code",
   "execution_count": null,
   "id": "bdfb1e3a-8d99-4d1d-9ec9-84b88fc6674e",
   "metadata": {},
   "outputs": [],
   "source": []
  },
  {
   "cell_type": "markdown",
   "id": "cedb182f-c2a6-4fa4-ae2e-cbf086a338b5",
   "metadata": {},
   "source": [
    "8. **💡 Modell auf andere Klassifikationsalgorithmen anwenden**\n",
    "**Was zu tun ist:** Wende andere Klassifikationsalgorithmen wie `RandomForestClassifier` oder `LogisticRegression` auf den Titanic-Datensatz an und vergleiche die Leistung mit dem Entscheidungsbaum."
   ]
  },
  {
   "cell_type": "code",
   "execution_count": null,
   "id": "c5982f2d-4152-4a2e-98c7-2e195752a807",
   "metadata": {},
   "outputs": [],
   "source": []
  }
 ],
 "metadata": {
  "kernelspec": {
   "display_name": "Python 3 (ipykernel)",
   "language": "python",
   "name": "python3"
  },
  "language_info": {
   "codemirror_mode": {
    "name": "ipython",
    "version": 3
   },
   "file_extension": ".py",
   "mimetype": "text/x-python",
   "name": "python",
   "nbconvert_exporter": "python",
   "pygments_lexer": "ipython3",
   "version": "3.12.3"
  }
 },
 "nbformat": 4,
 "nbformat_minor": 5
}
